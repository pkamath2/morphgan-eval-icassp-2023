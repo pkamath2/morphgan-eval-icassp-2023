{
 "cells": [
  {
   "cell_type": "code",
   "execution_count": 2,
   "id": "03ffbcb7",
   "metadata": {},
   "outputs": [],
   "source": [
    "import numpy as np\n",
    "import os, sys, librosa\n",
    "from librosa import display\n",
    "from scipy import signal\n",
    "from matplotlib import pyplot as plt\n",
    "import matplotlib.gridspec as gridspec\n",
    "import IPython.display as ipd\n",
    "import pandas as pd\n",
    "from numba import jit\n",
    "from IPython.display import Audio \n",
    "import IPython\n",
    "import shutil\n",
    "\n",
    "import cdpam\n",
    "\n",
    "from scipy.stats import pearsonr, spearmanr\n",
    "\n",
    "import scipy.spatial as sp\n",
    "\n",
    "%matplotlib inline\n",
    "import warnings\n",
    "warnings.filterwarnings(\"ignore\")"
   ]
  },
  {
   "cell_type": "markdown",
   "id": "b59b9ff6",
   "metadata": {},
   "source": [
    "# MorphGAN"
   ]
  },
  {
   "cell_type": "code",
   "execution_count": 3,
   "id": "bdf1d623",
   "metadata": {},
   "outputs": [
    {
     "name": "stdout",
     "output_type": "stream",
     "text": [
      "MorphGAN: Corr coef for Morph User Controllability =  (0.9048709038677443, 0.00012870506404295414)\n"
     ]
    }
   ],
   "source": [
    "fad_paramsense_morph_results = [0,1.412410,2.734908,5.454199,8.110626,8.714712,\\\n",
    "                                        9.966320, 9.922348, 9.918847, 9.990270, 9.662440]\n",
    "\n",
    "\n",
    "lin_line = [a for a in np.arange(0,1.1,0.1)]\n",
    "print('MorphGAN: Corr coef for Morph User Controllability = ', pearsonr(lin_line, fad_paramsense_morph_results))\n"
   ]
  },
  {
   "cell_type": "code",
   "execution_count": null,
   "id": "9ccf439e",
   "metadata": {},
   "outputs": [],
   "source": []
  },
  {
   "cell_type": "markdown",
   "id": "37de392d",
   "metadata": {},
   "source": [
    "# One Hot"
   ]
  },
  {
   "cell_type": "code",
   "execution_count": 4,
   "id": "2d0fad07",
   "metadata": {},
   "outputs": [
    {
     "name": "stdout",
     "output_type": "stream",
     "text": [
      "One Hot GAN: Corr coef for Morph User Controllability =  (0.756632903086349, 0.007030535942728999)\n"
     ]
    }
   ],
   "source": [
    "fad_paramsense_morph_results = [0,0.574804,1.275651, 3.804540, 9.851360, 12.351789,\\\n",
    "                                        7.336844, 7.283094, 8.619696, 8.812443, 9.092771]\n",
    "\n",
    "\n",
    "lin_line = [a for a in np.arange(0,1.1,0.1)]\n",
    "print('One Hot GAN: Corr coef for Morph User Controllability = ', pearsonr(lin_line, fad_paramsense_morph_results))\n"
   ]
  },
  {
   "cell_type": "code",
   "execution_count": null,
   "id": "be0938e5",
   "metadata": {},
   "outputs": [],
   "source": []
  },
  {
   "cell_type": "markdown",
   "id": "51ee68ec",
   "metadata": {},
   "source": [
    "# Mix"
   ]
  },
  {
   "cell_type": "code",
   "execution_count": 7,
   "id": "8d1e70c5",
   "metadata": {},
   "outputs": [
    {
     "name": "stdout",
     "output_type": "stream",
     "text": [
      "Mix: Corr coef for Morph User Controllability =  (0.753501149631197, 0.007410304718954038)\n"
     ]
    }
   ],
   "source": [
    "fad_paramsense_morph_results = [0,4.259099,12.816742, 20.694775, 22.817016, 24.287468,\\\n",
    "                                        23.004212, 22.282660, 23.050315, 22.974540, 20.279528]\n",
    "\n",
    "\n",
    "lin_line = [a for a in np.arange(0,1.1,0.1)]\n",
    "print('Mix: Corr coef for Morph User Controllability = ', pearsonr(lin_line, fad_paramsense_morph_results))\n"
   ]
  },
  {
   "cell_type": "code",
   "execution_count": null,
   "id": "3b21b278",
   "metadata": {},
   "outputs": [],
   "source": []
  },
  {
   "cell_type": "markdown",
   "id": "180006bc",
   "metadata": {},
   "source": [
    "# Morph2"
   ]
  },
  {
   "cell_type": "code",
   "execution_count": 6,
   "id": "3a15952a",
   "metadata": {},
   "outputs": [
    {
     "name": "stdout",
     "output_type": "stream",
     "text": [
      "Mix: Corr coef for Morph User Controllability =  (0.24944299478628917, 0.45947881128005397)\n"
     ]
    }
   ],
   "source": [
    "fad_paramsense_morph_results = [0,10.731350,13.292331, 56.320619, 19.363450, 20.831226,\\\n",
    "                                        23.409904, 23.398892, 23.091206, 21.787718, 20.279528]\n",
    "\n",
    "\n",
    "lin_line = [a for a in np.arange(0,1.1,0.1)]\n",
    "print('Mix: Corr coef for Morph User Controllability = ', pearsonr(lin_line, fad_paramsense_morph_results))\n"
   ]
  },
  {
   "cell_type": "code",
   "execution_count": null,
   "id": "cd6cbc5e",
   "metadata": {},
   "outputs": [],
   "source": []
  },
  {
   "cell_type": "code",
   "execution_count": null,
   "id": "dbe11f33",
   "metadata": {},
   "outputs": [],
   "source": []
  },
  {
   "cell_type": "code",
   "execution_count": null,
   "id": "d396e1a8",
   "metadata": {},
   "outputs": [],
   "source": []
  },
  {
   "cell_type": "code",
   "execution_count": null,
   "id": "ca09f70f",
   "metadata": {},
   "outputs": [],
   "source": []
  }
 ],
 "metadata": {
  "kernelspec": {
   "display_name": "Python [conda env:pDL] *",
   "language": "python",
   "name": "conda-env-pDL-py"
  },
  "language_info": {
   "codemirror_mode": {
    "name": "ipython",
    "version": 3
   },
   "file_extension": ".py",
   "mimetype": "text/x-python",
   "name": "python",
   "nbconvert_exporter": "python",
   "pygments_lexer": "ipython3",
   "version": "3.8.8"
  }
 },
 "nbformat": 4,
 "nbformat_minor": 5
}
