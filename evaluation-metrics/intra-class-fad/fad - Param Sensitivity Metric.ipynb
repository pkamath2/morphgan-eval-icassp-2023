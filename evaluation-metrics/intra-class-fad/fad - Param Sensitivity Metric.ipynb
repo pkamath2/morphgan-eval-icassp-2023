{
 "cells": [
  {
   "cell_type": "code",
   "execution_count": 2,
   "id": "03ffbcb7",
   "metadata": {},
   "outputs": [],
   "source": [
    "import numpy as np\n",
    "import os, sys, librosa\n",
    "from librosa import display\n",
    "from scipy import signal\n",
    "from matplotlib import pyplot as plt\n",
    "import matplotlib.gridspec as gridspec\n",
    "import IPython.display as ipd\n",
    "import pandas as pd\n",
    "from numba import jit\n",
    "from IPython.display import Audio \n",
    "import IPython\n",
    "import shutil\n",
    "\n",
    "import cdpam\n",
    "\n",
    "from scipy.stats import pearsonr, spearmanr\n",
    "\n",
    "import scipy.spatial as sp\n",
    "\n",
    "%matplotlib inline\n",
    "import warnings\n",
    "warnings.filterwarnings(\"ignore\")"
   ]
  },
  {
   "cell_type": "markdown",
   "id": "10bca074",
   "metadata": {},
   "source": [
    "# MorphGAN"
   ]
  },
  {
   "cell_type": "code",
   "execution_count": 4,
   "id": "061e8944",
   "metadata": {},
   "outputs": [
    {
     "name": "stdout",
     "output_type": "stream",
     "text": [
      "MorphGAN: Corr coef for Semantic Water User Controllability =  (0.9524800637955384, 6.074927080252369e-06)\n",
      "MorphGAN: Corr coef for Semantic Wind User Controllability =  (0.9849943884615615, 3.557942606690735e-08)\n"
     ]
    }
   ],
   "source": [
    "fad_user_controllability_semantic_water_results = [0,0.630594,1.131551,1.354619,2.435775,2.804366,\\\n",
    "                                          2.840576,2.529478,2.686816,3.667981,4.349553]\n",
    "fad_user_controllability_semantic_wind_results = [0,0.308907,0.797473,1.274844,1.359147,1.494339,\\\n",
    "                                          1.989675,2.116375,2.789195,2.571211,2.938709]\n",
    "\n",
    "\n",
    "lin_line = [a for a in np.arange(0,1.1,0.1)]\n",
    "print('MorphGAN: Corr coef for Semantic Water User Controllability = ', pearsonr(lin_line, fad_user_controllability_semantic_water_results))\n",
    "print('MorphGAN: Corr coef for Semantic Wind User Controllability = ', pearsonr(lin_line, fad_user_controllability_semantic_wind_results))"
   ]
  },
  {
   "cell_type": "code",
   "execution_count": null,
   "id": "2d082d12",
   "metadata": {},
   "outputs": [],
   "source": []
  },
  {
   "cell_type": "markdown",
   "id": "5598c382",
   "metadata": {},
   "source": [
    "# One Hot"
   ]
  },
  {
   "cell_type": "code",
   "execution_count": 5,
   "id": "818cff1f",
   "metadata": {},
   "outputs": [
    {
     "name": "stdout",
     "output_type": "stream",
     "text": [
      "One HOT: Corr coef for Semantic Water User Controllability =  (0.7378138524263472, 0.009542182381315599)\n",
      "One HOT: Corr coef for Semantic Wind User Controllability =  (0.7497711697461269, 0.007881948083480871)\n"
     ]
    }
   ],
   "source": [
    "fad_user_controllability_semantic_water_results = [0,2.328382,3.582134,2.910325,5.702173,7.059157,\\\n",
    "                                          11.682043,12.052453,7.320338,5.608516,8.944556]\n",
    "fad_user_controllability_semantic_wind_results = [0,2.453947,3.240602,2.029912,2.572522,1.988790,\\\n",
    "                                          2.462769,3.034268,3.575259,4.047498,3.639605]\n",
    "\n",
    "\n",
    "lin_line = [a for a in np.arange(0,1.1,0.1)]\n",
    "print('One HOT: Corr coef for Semantic Water User Controllability = ', pearsonr(lin_line, fad_user_controllability_semantic_water_results))\n",
    "print('One HOT: Corr coef for Semantic Wind User Controllability = ', pearsonr(lin_line, fad_user_controllability_semantic_wind_results))"
   ]
  },
  {
   "cell_type": "code",
   "execution_count": null,
   "id": "45db4cd0",
   "metadata": {},
   "outputs": [],
   "source": []
  },
  {
   "cell_type": "markdown",
   "id": "29b9ebaf",
   "metadata": {},
   "source": [
    "# Mix"
   ]
  },
  {
   "cell_type": "code",
   "execution_count": 11,
   "id": "b4b90a5e",
   "metadata": {},
   "outputs": [
    {
     "name": "stdout",
     "output_type": "stream",
     "text": [
      "Mix: Corr coef for Semantic Water User Controllability =  (0.66766022628072, 0.0247765143915096)\n",
      "Mix HOT: Corr coef for Semantic Wind User Controllability =  (0.9817864138322459, 8.4689506348207e-08)\n"
     ]
    }
   ],
   "source": [
    "fad_user_controllability_semantic_water_results = [0,0.941885,4.554758,9.133701,12.599972,14.801573,\\\n",
    "                                          17.067932,23.415872,17.804079,13.287361,7.984300]\n",
    "fad_user_controllability_semantic_wind_results = [0,0.560661,0.968669,1.220683,1.432557,1.562744,\\\n",
    "                                          1.824957,2.224959,2.891487,3.466213,3.205546]\n",
    "\n",
    "\n",
    "lin_line = [a for a in np.arange(0,1.1,0.1)]\n",
    "print('Mix: Corr coef for Semantic Water User Controllability = ', pearsonr(lin_line, fad_user_controllability_semantic_water_results))\n",
    "print('Mix HOT: Corr coef for Semantic Wind User Controllability = ', pearsonr(lin_line, fad_user_controllability_semantic_wind_results))"
   ]
  },
  {
   "cell_type": "code",
   "execution_count": null,
   "id": "1afde1dd",
   "metadata": {},
   "outputs": [],
   "source": []
  },
  {
   "cell_type": "markdown",
   "id": "34c2cb2e",
   "metadata": {},
   "source": [
    "# Morph2"
   ]
  },
  {
   "cell_type": "code",
   "execution_count": 10,
   "id": "07d42c36",
   "metadata": {},
   "outputs": [
    {
     "name": "stdout",
     "output_type": "stream",
     "text": [
      "Morph2: Corr coef for Semantic Water User Controllability =  (0.6410003278957546, 0.03356278559676068)\n",
      "Morph2 HOT: Corr coef for Semantic Wind User Controllability =  (0.1941033867957969, 0.5673969514069697)\n"
     ]
    }
   ],
   "source": [
    "fad_user_controllability_semantic_water_results = [0,6.626922,9.723219,8.999004,15.394586,\\\n",
    "                                          9.939732,18.608813,34.486759,59.062259,43.525150,7.984300]\n",
    "fad_user_controllability_semantic_wind_results = [0,11.531543,10.440148,8.203135,10.213687,15.258639,\\\n",
    "                                          11.266628,11.176147,10.791598,12.463850,3.205546]\n",
    "\n",
    "\n",
    "lin_line = [a for a in np.arange(0,1.1,0.1)]\n",
    "print('Morph2: Corr coef for Semantic Water User Controllability = ', pearsonr(lin_line, fad_user_controllability_semantic_water_results))\n",
    "print('Morph2 HOT: Corr coef for Semantic Wind User Controllability = ', pearsonr(lin_line, fad_user_controllability_semantic_wind_results))"
   ]
  },
  {
   "cell_type": "code",
   "execution_count": null,
   "id": "3a789bb2",
   "metadata": {},
   "outputs": [],
   "source": []
  },
  {
   "cell_type": "code",
   "execution_count": null,
   "id": "8b10f6c4",
   "metadata": {},
   "outputs": [],
   "source": []
  },
  {
   "cell_type": "code",
   "execution_count": null,
   "id": "4df170ba",
   "metadata": {},
   "outputs": [],
   "source": []
  },
  {
   "cell_type": "code",
   "execution_count": null,
   "id": "c7e058f6",
   "metadata": {},
   "outputs": [],
   "source": []
  }
 ],
 "metadata": {
  "kernelspec": {
   "display_name": "Python 3",
   "language": "python",
   "name": "python3"
  },
  "language_info": {
   "codemirror_mode": {
    "name": "ipython",
    "version": 3
   },
   "file_extension": ".py",
   "mimetype": "text/x-python",
   "name": "python",
   "nbconvert_exporter": "python",
   "pygments_lexer": "ipython3",
   "version": "3.8.8"
  },
  "vscode": {
   "interpreter": {
    "hash": "aee8b7b246df8f9039afb4144a1f6fd8d2ca17a180786b69acc140d282b71a49"
   }
  }
 },
 "nbformat": 4,
 "nbformat_minor": 5
}
